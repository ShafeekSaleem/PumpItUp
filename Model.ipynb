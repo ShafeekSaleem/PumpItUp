{
  "nbformat": 4,
  "nbformat_minor": 0,
  "metadata": {
    "colab": {
      "name": "Untitled7.ipynb",
      "provenance": [],
      "collapsed_sections": []
    },
    "kernelspec": {
      "name": "python3",
      "display_name": "Python 3"
    },
    "language_info": {
      "name": "python"
    }
  },
  "cells": [
    {
      "cell_type": "code",
      "metadata": {
        "id": "YLYhligdiHjV"
      },
      "source": [
        "\n",
        "import pandas as pd\n",
        "import numpy as np\n",
        "import matplotlib.pyplot as plt"
      ],
      "execution_count": 202,
      "outputs": []
    },
    {
      "cell_type": "code",
      "metadata": {
        "id": "ZFZQ7Y1Wi1dR"
      },
      "source": [
        "#read in csv's and merge\n",
        "values_df = pd.read_csv('/train_set_values.csv')\n",
        "labels_df = pd.read_csv('/train_set_labels.csv')\n",
        "test_df = pd.read_csv('/test_set_values.csv')"
      ],
      "execution_count": 203,
      "outputs": []
    },
    {
      "cell_type": "code",
      "metadata": {
        "colab": {
          "base_uri": "https://localhost:8080/",
          "height": 411
        },
        "id": "2NLWWuN0jS4u",
        "outputId": "830b9564-78e3-42df-9880-f6d4fc90e4e6"
      },
      "source": [
        "df= pd.merge(values_df, labels_df, on = 'id' )\n",
        "\n",
        "df.head()"
      ],
      "execution_count": 204,
      "outputs": [
        {
          "output_type": "execute_result",
          "data": {
            "text/html": [
              "<div>\n",
              "<style scoped>\n",
              "    .dataframe tbody tr th:only-of-type {\n",
              "        vertical-align: middle;\n",
              "    }\n",
              "\n",
              "    .dataframe tbody tr th {\n",
              "        vertical-align: top;\n",
              "    }\n",
              "\n",
              "    .dataframe thead th {\n",
              "        text-align: right;\n",
              "    }\n",
              "</style>\n",
              "<table border=\"1\" class=\"dataframe\">\n",
              "  <thead>\n",
              "    <tr style=\"text-align: right;\">\n",
              "      <th></th>\n",
              "      <th>id</th>\n",
              "      <th>amount_tsh</th>\n",
              "      <th>date_recorded</th>\n",
              "      <th>funder</th>\n",
              "      <th>gps_height</th>\n",
              "      <th>installer</th>\n",
              "      <th>longitude</th>\n",
              "      <th>latitude</th>\n",
              "      <th>wpt_name</th>\n",
              "      <th>num_private</th>\n",
              "      <th>basin</th>\n",
              "      <th>subvillage</th>\n",
              "      <th>region</th>\n",
              "      <th>region_code</th>\n",
              "      <th>district_code</th>\n",
              "      <th>lga</th>\n",
              "      <th>ward</th>\n",
              "      <th>population</th>\n",
              "      <th>public_meeting</th>\n",
              "      <th>recorded_by</th>\n",
              "      <th>scheme_management</th>\n",
              "      <th>scheme_name</th>\n",
              "      <th>permit</th>\n",
              "      <th>construction_year</th>\n",
              "      <th>extraction_type</th>\n",
              "      <th>extraction_type_group</th>\n",
              "      <th>extraction_type_class</th>\n",
              "      <th>management</th>\n",
              "      <th>management_group</th>\n",
              "      <th>payment</th>\n",
              "      <th>payment_type</th>\n",
              "      <th>water_quality</th>\n",
              "      <th>quality_group</th>\n",
              "      <th>quantity</th>\n",
              "      <th>quantity_group</th>\n",
              "      <th>source</th>\n",
              "      <th>source_type</th>\n",
              "      <th>source_class</th>\n",
              "      <th>waterpoint_type</th>\n",
              "      <th>waterpoint_type_group</th>\n",
              "      <th>status_group</th>\n",
              "    </tr>\n",
              "  </thead>\n",
              "  <tbody>\n",
              "    <tr>\n",
              "      <th>0</th>\n",
              "      <td>69572</td>\n",
              "      <td>6000.0</td>\n",
              "      <td>2011-03-14</td>\n",
              "      <td>Roman</td>\n",
              "      <td>1390</td>\n",
              "      <td>Roman</td>\n",
              "      <td>34.938093</td>\n",
              "      <td>-9.856322</td>\n",
              "      <td>none</td>\n",
              "      <td>0</td>\n",
              "      <td>Lake Nyasa</td>\n",
              "      <td>Mnyusi B</td>\n",
              "      <td>Iringa</td>\n",
              "      <td>11</td>\n",
              "      <td>5</td>\n",
              "      <td>Ludewa</td>\n",
              "      <td>Mundindi</td>\n",
              "      <td>109</td>\n",
              "      <td>True</td>\n",
              "      <td>GeoData Consultants Ltd</td>\n",
              "      <td>VWC</td>\n",
              "      <td>Roman</td>\n",
              "      <td>False</td>\n",
              "      <td>1999</td>\n",
              "      <td>gravity</td>\n",
              "      <td>gravity</td>\n",
              "      <td>gravity</td>\n",
              "      <td>vwc</td>\n",
              "      <td>user-group</td>\n",
              "      <td>pay annually</td>\n",
              "      <td>annually</td>\n",
              "      <td>soft</td>\n",
              "      <td>good</td>\n",
              "      <td>enough</td>\n",
              "      <td>enough</td>\n",
              "      <td>spring</td>\n",
              "      <td>spring</td>\n",
              "      <td>groundwater</td>\n",
              "      <td>communal standpipe</td>\n",
              "      <td>communal standpipe</td>\n",
              "      <td>functional</td>\n",
              "    </tr>\n",
              "    <tr>\n",
              "      <th>1</th>\n",
              "      <td>8776</td>\n",
              "      <td>0.0</td>\n",
              "      <td>2013-03-06</td>\n",
              "      <td>Grumeti</td>\n",
              "      <td>1399</td>\n",
              "      <td>GRUMETI</td>\n",
              "      <td>34.698766</td>\n",
              "      <td>-2.147466</td>\n",
              "      <td>Zahanati</td>\n",
              "      <td>0</td>\n",
              "      <td>Lake Victoria</td>\n",
              "      <td>Nyamara</td>\n",
              "      <td>Mara</td>\n",
              "      <td>20</td>\n",
              "      <td>2</td>\n",
              "      <td>Serengeti</td>\n",
              "      <td>Natta</td>\n",
              "      <td>280</td>\n",
              "      <td>NaN</td>\n",
              "      <td>GeoData Consultants Ltd</td>\n",
              "      <td>Other</td>\n",
              "      <td>NaN</td>\n",
              "      <td>True</td>\n",
              "      <td>2010</td>\n",
              "      <td>gravity</td>\n",
              "      <td>gravity</td>\n",
              "      <td>gravity</td>\n",
              "      <td>wug</td>\n",
              "      <td>user-group</td>\n",
              "      <td>never pay</td>\n",
              "      <td>never pay</td>\n",
              "      <td>soft</td>\n",
              "      <td>good</td>\n",
              "      <td>insufficient</td>\n",
              "      <td>insufficient</td>\n",
              "      <td>rainwater harvesting</td>\n",
              "      <td>rainwater harvesting</td>\n",
              "      <td>surface</td>\n",
              "      <td>communal standpipe</td>\n",
              "      <td>communal standpipe</td>\n",
              "      <td>functional</td>\n",
              "    </tr>\n",
              "    <tr>\n",
              "      <th>2</th>\n",
              "      <td>34310</td>\n",
              "      <td>25.0</td>\n",
              "      <td>2013-02-25</td>\n",
              "      <td>Lottery Club</td>\n",
              "      <td>686</td>\n",
              "      <td>World vision</td>\n",
              "      <td>37.460664</td>\n",
              "      <td>-3.821329</td>\n",
              "      <td>Kwa Mahundi</td>\n",
              "      <td>0</td>\n",
              "      <td>Pangani</td>\n",
              "      <td>Majengo</td>\n",
              "      <td>Manyara</td>\n",
              "      <td>21</td>\n",
              "      <td>4</td>\n",
              "      <td>Simanjiro</td>\n",
              "      <td>Ngorika</td>\n",
              "      <td>250</td>\n",
              "      <td>True</td>\n",
              "      <td>GeoData Consultants Ltd</td>\n",
              "      <td>VWC</td>\n",
              "      <td>Nyumba ya mungu pipe scheme</td>\n",
              "      <td>True</td>\n",
              "      <td>2009</td>\n",
              "      <td>gravity</td>\n",
              "      <td>gravity</td>\n",
              "      <td>gravity</td>\n",
              "      <td>vwc</td>\n",
              "      <td>user-group</td>\n",
              "      <td>pay per bucket</td>\n",
              "      <td>per bucket</td>\n",
              "      <td>soft</td>\n",
              "      <td>good</td>\n",
              "      <td>enough</td>\n",
              "      <td>enough</td>\n",
              "      <td>dam</td>\n",
              "      <td>dam</td>\n",
              "      <td>surface</td>\n",
              "      <td>communal standpipe multiple</td>\n",
              "      <td>communal standpipe</td>\n",
              "      <td>functional</td>\n",
              "    </tr>\n",
              "    <tr>\n",
              "      <th>3</th>\n",
              "      <td>67743</td>\n",
              "      <td>0.0</td>\n",
              "      <td>2013-01-28</td>\n",
              "      <td>Unicef</td>\n",
              "      <td>263</td>\n",
              "      <td>UNICEF</td>\n",
              "      <td>38.486161</td>\n",
              "      <td>-11.155298</td>\n",
              "      <td>Zahanati Ya Nanyumbu</td>\n",
              "      <td>0</td>\n",
              "      <td>Ruvuma / Southern Coast</td>\n",
              "      <td>Mahakamani</td>\n",
              "      <td>Mtwara</td>\n",
              "      <td>90</td>\n",
              "      <td>63</td>\n",
              "      <td>Nanyumbu</td>\n",
              "      <td>Nanyumbu</td>\n",
              "      <td>58</td>\n",
              "      <td>True</td>\n",
              "      <td>GeoData Consultants Ltd</td>\n",
              "      <td>VWC</td>\n",
              "      <td>NaN</td>\n",
              "      <td>True</td>\n",
              "      <td>1986</td>\n",
              "      <td>submersible</td>\n",
              "      <td>submersible</td>\n",
              "      <td>submersible</td>\n",
              "      <td>vwc</td>\n",
              "      <td>user-group</td>\n",
              "      <td>never pay</td>\n",
              "      <td>never pay</td>\n",
              "      <td>soft</td>\n",
              "      <td>good</td>\n",
              "      <td>dry</td>\n",
              "      <td>dry</td>\n",
              "      <td>machine dbh</td>\n",
              "      <td>borehole</td>\n",
              "      <td>groundwater</td>\n",
              "      <td>communal standpipe multiple</td>\n",
              "      <td>communal standpipe</td>\n",
              "      <td>non functional</td>\n",
              "    </tr>\n",
              "    <tr>\n",
              "      <th>4</th>\n",
              "      <td>19728</td>\n",
              "      <td>0.0</td>\n",
              "      <td>2011-07-13</td>\n",
              "      <td>Action In A</td>\n",
              "      <td>0</td>\n",
              "      <td>Artisan</td>\n",
              "      <td>31.130847</td>\n",
              "      <td>-1.825359</td>\n",
              "      <td>Shuleni</td>\n",
              "      <td>0</td>\n",
              "      <td>Lake Victoria</td>\n",
              "      <td>Kyanyamisa</td>\n",
              "      <td>Kagera</td>\n",
              "      <td>18</td>\n",
              "      <td>1</td>\n",
              "      <td>Karagwe</td>\n",
              "      <td>Nyakasimbi</td>\n",
              "      <td>0</td>\n",
              "      <td>True</td>\n",
              "      <td>GeoData Consultants Ltd</td>\n",
              "      <td>NaN</td>\n",
              "      <td>NaN</td>\n",
              "      <td>True</td>\n",
              "      <td>0</td>\n",
              "      <td>gravity</td>\n",
              "      <td>gravity</td>\n",
              "      <td>gravity</td>\n",
              "      <td>other</td>\n",
              "      <td>other</td>\n",
              "      <td>never pay</td>\n",
              "      <td>never pay</td>\n",
              "      <td>soft</td>\n",
              "      <td>good</td>\n",
              "      <td>seasonal</td>\n",
              "      <td>seasonal</td>\n",
              "      <td>rainwater harvesting</td>\n",
              "      <td>rainwater harvesting</td>\n",
              "      <td>surface</td>\n",
              "      <td>communal standpipe</td>\n",
              "      <td>communal standpipe</td>\n",
              "      <td>functional</td>\n",
              "    </tr>\n",
              "  </tbody>\n",
              "</table>\n",
              "</div>"
            ],
            "text/plain": [
              "      id  amount_tsh  ... waterpoint_type_group    status_group\n",
              "0  69572      6000.0  ...    communal standpipe      functional\n",
              "1   8776         0.0  ...    communal standpipe      functional\n",
              "2  34310        25.0  ...    communal standpipe      functional\n",
              "3  67743         0.0  ...    communal standpipe  non functional\n",
              "4  19728         0.0  ...    communal standpipe      functional\n",
              "\n",
              "[5 rows x 41 columns]"
            ]
          },
          "metadata": {},
          "execution_count": 204
        }
      ]
    },
    {
      "cell_type": "code",
      "metadata": {
        "colab": {
          "base_uri": "https://localhost:8080/"
        },
        "id": "QD9HcFro-b10",
        "outputId": "608d5680-70f2-4179-ba12-2f71c61b9a27"
      },
      "source": [
        "df.info() #to see the types of the columns"
      ],
      "execution_count": 205,
      "outputs": [
        {
          "output_type": "stream",
          "name": "stdout",
          "text": [
            "<class 'pandas.core.frame.DataFrame'>\n",
            "Int64Index: 59400 entries, 0 to 59399\n",
            "Data columns (total 41 columns):\n",
            " #   Column                 Non-Null Count  Dtype  \n",
            "---  ------                 --------------  -----  \n",
            " 0   id                     59400 non-null  int64  \n",
            " 1   amount_tsh             59400 non-null  float64\n",
            " 2   date_recorded          59400 non-null  object \n",
            " 3   funder                 55765 non-null  object \n",
            " 4   gps_height             59400 non-null  int64  \n",
            " 5   installer              55745 non-null  object \n",
            " 6   longitude              59400 non-null  float64\n",
            " 7   latitude               59400 non-null  float64\n",
            " 8   wpt_name               59400 non-null  object \n",
            " 9   num_private            59400 non-null  int64  \n",
            " 10  basin                  59400 non-null  object \n",
            " 11  subvillage             59029 non-null  object \n",
            " 12  region                 59400 non-null  object \n",
            " 13  region_code            59400 non-null  int64  \n",
            " 14  district_code          59400 non-null  int64  \n",
            " 15  lga                    59400 non-null  object \n",
            " 16  ward                   59400 non-null  object \n",
            " 17  population             59400 non-null  int64  \n",
            " 18  public_meeting         56066 non-null  object \n",
            " 19  recorded_by            59400 non-null  object \n",
            " 20  scheme_management      55523 non-null  object \n",
            " 21  scheme_name            31234 non-null  object \n",
            " 22  permit                 56344 non-null  object \n",
            " 23  construction_year      59400 non-null  int64  \n",
            " 24  extraction_type        59400 non-null  object \n",
            " 25  extraction_type_group  59400 non-null  object \n",
            " 26  extraction_type_class  59400 non-null  object \n",
            " 27  management             59400 non-null  object \n",
            " 28  management_group       59400 non-null  object \n",
            " 29  payment                59400 non-null  object \n",
            " 30  payment_type           59400 non-null  object \n",
            " 31  water_quality          59400 non-null  object \n",
            " 32  quality_group          59400 non-null  object \n",
            " 33  quantity               59400 non-null  object \n",
            " 34  quantity_group         59400 non-null  object \n",
            " 35  source                 59400 non-null  object \n",
            " 36  source_type            59400 non-null  object \n",
            " 37  source_class           59400 non-null  object \n",
            " 38  waterpoint_type        59400 non-null  object \n",
            " 39  waterpoint_type_group  59400 non-null  object \n",
            " 40  status_group           59400 non-null  object \n",
            "dtypes: float64(3), int64(7), object(31)\n",
            "memory usage: 19.0+ MB\n"
          ]
        }
      ]
    },
    {
      "cell_type": "code",
      "metadata": {
        "colab": {
          "base_uri": "https://localhost:8080/"
        },
        "id": "1CMG7_gO-i9K",
        "outputId": "75fec6de-6299-4619-a9fa-5798c4796789"
      },
      "source": [
        "df.isna().sum() # to see the null values"
      ],
      "execution_count": 206,
      "outputs": [
        {
          "output_type": "execute_result",
          "data": {
            "text/plain": [
              "id                           0\n",
              "amount_tsh                   0\n",
              "date_recorded                0\n",
              "funder                    3635\n",
              "gps_height                   0\n",
              "installer                 3655\n",
              "longitude                    0\n",
              "latitude                     0\n",
              "wpt_name                     0\n",
              "num_private                  0\n",
              "basin                        0\n",
              "subvillage                 371\n",
              "region                       0\n",
              "region_code                  0\n",
              "district_code                0\n",
              "lga                          0\n",
              "ward                         0\n",
              "population                   0\n",
              "public_meeting            3334\n",
              "recorded_by                  0\n",
              "scheme_management         3877\n",
              "scheme_name              28166\n",
              "permit                    3056\n",
              "construction_year            0\n",
              "extraction_type              0\n",
              "extraction_type_group        0\n",
              "extraction_type_class        0\n",
              "management                   0\n",
              "management_group             0\n",
              "payment                      0\n",
              "payment_type                 0\n",
              "water_quality                0\n",
              "quality_group                0\n",
              "quantity                     0\n",
              "quantity_group               0\n",
              "source                       0\n",
              "source_type                  0\n",
              "source_class                 0\n",
              "waterpoint_type              0\n",
              "waterpoint_type_group        0\n",
              "status_group                 0\n",
              "dtype: int64"
            ]
          },
          "metadata": {},
          "execution_count": 206
        }
      ]
    },
    {
      "cell_type": "code",
      "metadata": {
        "id": "bpn6zZHD-jGr"
      },
      "source": [
        "df.drop(columns=['management_group','scheme_management','quantity_group','source_class','source_type','quality_group',\n",
        "                'payment_type','extraction_type_class','extraction_type', 'waterpoint_type_group'],inplace=True )"
      ],
      "execution_count": 207,
      "outputs": []
    },
    {
      "cell_type": "code",
      "metadata": {
        "id": "qZLR-QXn-jI9"
      },
      "source": [
        "df['decade'] = df['construction_year'] #creating new columns"
      ],
      "execution_count": 208,
      "outputs": []
    },
    {
      "cell_type": "code",
      "metadata": {
        "id": "vBfcHMMn-jLY"
      },
      "source": [
        "\n",
        "# dividing the column decades\n",
        "\n",
        "df['decade'].replace(to_replace = (1960,1961,1962,1963,1964,1965,1966,1967,1968,1969),\n",
        "                        value ='60s' , inplace=True)\n",
        "df['decade'].replace(to_replace = (1970,1971,1972,1973,1974,1975,1976,1977,1978,1979),\n",
        "                        value ='70s' , inplace=True)\n",
        "df['decade'].replace(to_replace = (1980,1981,1982,1983,1984,1985,1986,1987,1988,1989),\n",
        "                        value ='80s' , inplace=True)\n",
        "df['decade'].replace(to_replace = (1990,1991,1992,1993,1994,1995,1996,1997,1998,1999),\n",
        "                        value ='90s' , inplace=True)\n",
        "df['decade'].replace(to_replace = (2000,2001,2002,2003,2004,2005,2006,2007,2008,2009),\n",
        "                        value ='00s' , inplace=True)\n",
        "df['decade'].replace(to_replace = (2010,2011,2012,2013),\n",
        "                        value ='10s' , inplace=True)"
      ],
      "execution_count": 209,
      "outputs": []
    },
    {
      "cell_type": "code",
      "metadata": {
        "id": "MOT3OEIF_FKq"
      },
      "source": [
        "df['construction_year'].replace(to_replace = 0, value = 2000, inplace=True)\n",
        "#changing the missing values in construction year column"
      ],
      "execution_count": 210,
      "outputs": []
    },
    {
      "cell_type": "code",
      "metadata": {
        "id": "RQywRE9M_FMx"
      },
      "source": [
        "df.drop(columns=['recorded_by'],inplace=True ) #dropping the column"
      ],
      "execution_count": 211,
      "outputs": []
    },
    {
      "cell_type": "code",
      "metadata": {
        "id": "JCaC8cWw_FO5"
      },
      "source": [
        "df['installer'].fillna(value='Unknown',inplace=True)  # filling null values with unknown"
      ],
      "execution_count": null,
      "outputs": []
    },
    {
      "cell_type": "code",
      "metadata": {
        "id": "u1C6dXq2_FRK"
      },
      "source": [
        ""
      ],
      "execution_count": null,
      "outputs": []
    },
    {
      "cell_type": "code",
      "metadata": {
        "id": "mNjcASgw_FTT"
      },
      "source": [
        ""
      ],
      "execution_count": null,
      "outputs": []
    },
    {
      "cell_type": "code",
      "metadata": {
        "id": "3p9bHW7z_FVq"
      },
      "source": [
        ""
      ],
      "execution_count": null,
      "outputs": []
    },
    {
      "cell_type": "code",
      "metadata": {
        "colab": {
          "base_uri": "https://localhost:8080/"
        },
        "id": "MS7vaz1gjdhE",
        "outputId": "e37ed3f5-b1a8-41f3-de03-e66940970fa0"
      },
      "source": [
        "df['status_group'].value_counts()"
      ],
      "execution_count": 146,
      "outputs": [
        {
          "output_type": "execute_result",
          "data": {
            "text/plain": [
              "functional                 32259\n",
              "non functional             22824\n",
              "functional needs repair     4317\n",
              "Name: status_group, dtype: int64"
            ]
          },
          "metadata": {},
          "execution_count": 146
        }
      ]
    },
    {
      "cell_type": "code",
      "metadata": {
        "colab": {
          "base_uri": "https://localhost:8080/"
        },
        "id": "pGTuH6rwj86a",
        "outputId": "f5c33b50-2f49-49f9-99c2-46f80c416a42"
      },
      "source": [
        "%pip install category-encoders\n",
        "import pandas as pd\n",
        "import numpy as np\n",
        "from category_encoders import TargetEncoder\n",
        "from sklearn.preprocessing import OneHotEncoder\n",
        "from category_encoders import LeaveOneOutEncoder"
      ],
      "execution_count": 119,
      "outputs": [
        {
          "output_type": "stream",
          "name": "stdout",
          "text": [
            "Requirement already satisfied: category-encoders in /usr/local/lib/python3.7/dist-packages (2.2.2)\n",
            "Requirement already satisfied: scipy>=1.0.0 in /usr/local/lib/python3.7/dist-packages (from category-encoders) (1.4.1)\n",
            "Requirement already satisfied: patsy>=0.5.1 in /usr/local/lib/python3.7/dist-packages (from category-encoders) (0.5.1)\n",
            "Requirement already satisfied: numpy>=1.14.0 in /usr/local/lib/python3.7/dist-packages (from category-encoders) (1.19.5)\n",
            "Requirement already satisfied: scikit-learn>=0.20.0 in /usr/local/lib/python3.7/dist-packages (from category-encoders) (0.22.2.post1)\n",
            "Requirement already satisfied: statsmodels>=0.9.0 in /usr/local/lib/python3.7/dist-packages (from category-encoders) (0.10.2)\n",
            "Requirement already satisfied: pandas>=0.21.1 in /usr/local/lib/python3.7/dist-packages (from category-encoders) (1.1.5)\n",
            "Requirement already satisfied: pytz>=2017.2 in /usr/local/lib/python3.7/dist-packages (from pandas>=0.21.1->category-encoders) (2018.9)\n",
            "Requirement already satisfied: python-dateutil>=2.7.3 in /usr/local/lib/python3.7/dist-packages (from pandas>=0.21.1->category-encoders) (2.8.2)\n",
            "Requirement already satisfied: six in /usr/local/lib/python3.7/dist-packages (from patsy>=0.5.1->category-encoders) (1.15.0)\n",
            "Requirement already satisfied: joblib>=0.11 in /usr/local/lib/python3.7/dist-packages (from scikit-learn>=0.20.0->category-encoders) (1.0.1)\n"
          ]
        }
      ]
    },
    {
      "cell_type": "code",
      "metadata": {
        "id": "W9td2ZOsj9MP"
      },
      "source": [
        "def DataCleaner(df, test_df):\n",
        "    #Fills in the mod\n",
        "    for col in df.columns[df.isna().sum() > 0]:\n",
        "        mode = df[col].mode()[0]\n",
        "        df[col].fillna(value = mode, inplace = True)\n",
        "        \n",
        "    #dropping    \n",
        "    to_drop = ['funder', 'num_private', 'subvillage', 'region_code', 'recorded_by', 'source_type', 'waterpoint_type', 'scheme_name', 'payment_type', 'quantity_group']\n",
        "    df.drop(columns = to_drop, inplace = True)\n",
        "    #targets to 0,1,2\n",
        "    df['status_group'] = df['status_group'].map({'functional': 2, 'functional needs repair': 1, 'non functional': 0})\n",
        "    # df['public_meeting'] = df['public_meeting'].map({True: 1, False: 0})\n",
        "    # df['permit'] = df['permit'].map({True: 1, False: 0})\n",
        "    #date column\n",
        "    df['date_recorded'] = pd.to_datetime(df['date_recorded'])\n",
        "    df['year_recorded'] = df['date_recorded'].dt.year\n",
        "    df['month_recorded'] = df['date_recorded'].dt.month\n",
        "    df.drop(columns = 'date_recorded', inplace = True)\n",
        "\n",
        "    #Test Set\n",
        "    #TEST SET TRANSFORM\n",
        "\n",
        "    #Fills in the mod\n",
        "    for col in test_df.columns[test_df.isna().sum() > 0]:\n",
        "        mode = test_df[col].mode()[0]\n",
        "        test_df[col].fillna(value = mode, inplace = True)\n",
        "        \n",
        "    #dropping    \n",
        "    to_drop = ['funder', 'num_private', 'subvillage', 'region_code', 'recorded_by', 'source_type', 'waterpoint_type', 'scheme_name', 'payment_type', 'quantity_group']\n",
        "    test_df.drop(columns = to_drop, inplace = True)\n",
        "\n",
        "    # test_df['public_meeting'] = test_df['public_meeting'].map({True: 1, False: 0})\n",
        "    # test_df['permit'] = test_df['permit'].map({True: 1, False: 0})\n",
        "    #date column\n",
        "    test_df['date_recorded'] = pd.to_datetime(test_df['date_recorded'])\n",
        "    test_df['year_recorded'] = test_df['date_recorded'].dt.year\n",
        "    test_df['month_recorded'] = test_df['date_recorded'].dt.month\n",
        "    test_df.drop(columns = 'date_recorded', inplace = True)\n",
        "\n",
        "\n",
        "    #target encode\n",
        "    target = 'status_group'\n",
        "    lst_te = ['wpt_name', 'basin', 'region', 'district_code', 'lga', 'ward', 'scheme_management','installer','source']\n",
        "\n",
        "    #encoder = TargetEncoder()\n",
        "    encoder = LeaveOneOutEncoder()\n",
        "    \n",
        "    te_everything = ['wpt_name', 'basin', 'region', 'district_code', 'lga', 'ward', 'scheme_management','installer','source',\n",
        "                    'extraction_type', 'extraction_type_group', 'extraction_type_class','management', 'payment', 'water_quality', 'management_group', 'quality_group', \n",
        "        'quantity','source_class', 'waterpoint_type_group'] \n",
        "\n",
        "    for c in te_everything:\n",
        "        df[str(c) + '_encoded'] = encoder.fit_transform(df[c].values, df[target]) # TRAINING SET\n",
        "        test_df[str(c) + '_encoded'] = encoder.transform(test_df[c].values) # TEST SET\n",
        "        df.drop(columns=c, inplace=True) # TRAINING SET\n",
        "        test_df.drop(columns=c, inplace=True) # TEST SET\n",
        "        \n",
        "    ohe = ['extraction_type', 'extraction_type_group', 'extraction_type_class','management', 'payment', 'water_quality', 'management_group', 'quality_group', \n",
        "        'quantity','source_class', 'waterpoint_type_group']\n",
        "\n",
        "\n",
        "    return df, test_df"
      ],
      "execution_count": 190,
      "outputs": []
    },
    {
      "cell_type": "code",
      "metadata": {
        "id": "0qKNIdnEjfyi"
      },
      "source": [
        "from imblearn.over_sampling import SMOTE\n",
        "from sklearn.neighbors import KNeighborsClassifier\n",
        "from sklearn.model_selection import cross_val_score, train_test_split, GridSearchCV\n",
        "from sklearn.metrics import accuracy_score\n",
        "from xgboost import XGBClassifier\n",
        "from lightgbm import LGBMClassifier\n",
        "from sklearn.pipeline import make_pipeline\n",
        "from mlxtend.evaluate import confusion_matrix\n",
        "from mlxtend.plotting import plot_confusion_matrix\n",
        "from mlxtend.classifier import StackingCVClassifier"
      ],
      "execution_count": 185,
      "outputs": []
    },
    {
      "cell_type": "code",
      "metadata": {
        "id": "7gEdDlnpjf06"
      },
      "source": [
        "train, test = DataCleaner(df, test_df)"
      ],
      "execution_count": 191,
      "outputs": []
    },
    {
      "cell_type": "code",
      "metadata": {
        "colab": {
          "base_uri": "https://localhost:8080/"
        },
        "id": "fuz99fD_jf3K",
        "outputId": "53b306a4-a682-4d8f-cdf0-6beb67c163bf"
      },
      "source": [
        "train['status_group'].value_counts()"
      ],
      "execution_count": 192,
      "outputs": [
        {
          "output_type": "execute_result",
          "data": {
            "text/plain": [
              "2    32259\n",
              "0    22824\n",
              "1     4317\n",
              "Name: status_group, dtype: int64"
            ]
          },
          "metadata": {},
          "execution_count": 192
        }
      ]
    },
    {
      "cell_type": "code",
      "metadata": {
        "colab": {
          "base_uri": "https://localhost:8080/"
        },
        "id": "6T89qJx54IGf",
        "outputId": "81ffda0c-a636-46cc-de87-e94b15aa105a"
      },
      "source": [
        "train.columns"
      ],
      "execution_count": 193,
      "outputs": [
        {
          "output_type": "execute_result",
          "data": {
            "text/plain": [
              "Index(['id', 'amount_tsh', 'gps_height', 'longitude', 'latitude', 'population',\n",
              "       'public_meeting', 'permit', 'construction_year', 'status_group',\n",
              "       'year_recorded', 'month_recorded', 'wpt_name_encoded', 'basin_encoded',\n",
              "       'region_encoded', 'district_code_encoded', 'lga_encoded',\n",
              "       'ward_encoded', 'scheme_management_encoded', 'installer_encoded',\n",
              "       'source_encoded', 'extraction_type_encoded',\n",
              "       'extraction_type_group_encoded', 'extraction_type_class_encoded',\n",
              "       'management_encoded', 'payment_encoded', 'water_quality_encoded',\n",
              "       'management_group_encoded', 'quality_group_encoded', 'quantity_encoded',\n",
              "       'source_class_encoded', 'waterpoint_type_group_encoded'],\n",
              "      dtype='object')"
            ]
          },
          "metadata": {},
          "execution_count": 193
        }
      ]
    },
    {
      "cell_type": "code",
      "metadata": {
        "colab": {
          "base_uri": "https://localhost:8080/"
        },
        "id": "UvrfzRug4Ww_",
        "outputId": "b7ce8c8d-fc7b-431c-9f34-f45aa375dabb"
      },
      "source": [
        "test.columns"
      ],
      "execution_count": 194,
      "outputs": [
        {
          "output_type": "execute_result",
          "data": {
            "text/plain": [
              "Index(['id', 'amount_tsh', 'gps_height', 'longitude', 'latitude', 'population',\n",
              "       'public_meeting', 'permit', 'construction_year', 'year_recorded',\n",
              "       'month_recorded', 'wpt_name_encoded', 'basin_encoded', 'region_encoded',\n",
              "       'district_code_encoded', 'lga_encoded', 'ward_encoded',\n",
              "       'scheme_management_encoded', 'installer_encoded', 'source_encoded',\n",
              "       'extraction_type_encoded', 'extraction_type_group_encoded',\n",
              "       'extraction_type_class_encoded', 'management_encoded',\n",
              "       'payment_encoded', 'water_quality_encoded', 'management_group_encoded',\n",
              "       'quality_group_encoded', 'quantity_encoded', 'source_class_encoded',\n",
              "       'waterpoint_type_group_encoded'],\n",
              "      dtype='object')"
            ]
          },
          "metadata": {},
          "execution_count": 194
        }
      ]
    },
    {
      "cell_type": "code",
      "metadata": {
        "id": "_5lY9F86jf5a"
      },
      "source": [
        "y = train['status_group']\n",
        "X = train.drop(columns = ['id','status_group'])\n",
        "X_train, X_test, y_train, y_test = train_test_split(X, y, random_state = 42)"
      ],
      "execution_count": 195,
      "outputs": []
    },
    {
      "cell_type": "code",
      "metadata": {
        "colab": {
          "base_uri": "https://localhost:8080/"
        },
        "id": "-2EiR5A5zBXe",
        "outputId": "1f8a9279-f6ee-409a-a895-8ac7e953a26e"
      },
      "source": [
        "X_train.columns"
      ],
      "execution_count": 196,
      "outputs": [
        {
          "output_type": "execute_result",
          "data": {
            "text/plain": [
              "Index(['amount_tsh', 'gps_height', 'longitude', 'latitude', 'population',\n",
              "       'public_meeting', 'permit', 'construction_year', 'year_recorded',\n",
              "       'month_recorded', 'wpt_name_encoded', 'basin_encoded', 'region_encoded',\n",
              "       'district_code_encoded', 'lga_encoded', 'ward_encoded',\n",
              "       'scheme_management_encoded', 'installer_encoded', 'source_encoded',\n",
              "       'extraction_type_encoded', 'extraction_type_group_encoded',\n",
              "       'extraction_type_class_encoded', 'management_encoded',\n",
              "       'payment_encoded', 'water_quality_encoded', 'management_group_encoded',\n",
              "       'quality_group_encoded', 'quantity_encoded', 'source_class_encoded',\n",
              "       'waterpoint_type_group_encoded'],\n",
              "      dtype='object')"
            ]
          },
          "metadata": {},
          "execution_count": 196
        }
      ]
    },
    {
      "cell_type": "code",
      "metadata": {
        "colab": {
          "base_uri": "https://localhost:8080/"
        },
        "id": "Y4YhHouXk1Ok",
        "outputId": "96a4676f-1cd2-4a71-8a98-7dadb3f604aa"
      },
      "source": [
        "smote = SMOTE(sampling_strategy = 'auto', n_jobs = -1)\n",
        "X_resampled, y_resampled = smote.fit_sample(X, y)"
      ],
      "execution_count": 86,
      "outputs": [
        {
          "output_type": "stream",
          "name": "stderr",
          "text": [
            "/usr/local/lib/python3.7/dist-packages/sklearn/utils/deprecation.py:87: FutureWarning: Function safe_indexing is deprecated; safe_indexing is deprecated in version 0.22 and will be removed in version 0.24.\n",
            "  warnings.warn(msg, category=FutureWarning)\n",
            "/usr/local/lib/python3.7/dist-packages/sklearn/utils/deprecation.py:87: FutureWarning: Function safe_indexing is deprecated; safe_indexing is deprecated in version 0.22 and will be removed in version 0.24.\n",
            "  warnings.warn(msg, category=FutureWarning)\n"
          ]
        }
      ]
    },
    {
      "cell_type": "code",
      "metadata": {
        "id": "i8JycCWwu_Mk"
      },
      "source": [
        "X_resampled = pd.DataFrame(X_resampled, columns=X.columns)"
      ],
      "execution_count": 97,
      "outputs": []
    },
    {
      "cell_type": "code",
      "metadata": {
        "id": "I3LK2thqvSdY"
      },
      "source": [
        "X_train_resampled = pd.DataFrame(X_train_resampled, columns=X_train.columns)"
      ],
      "execution_count": 98,
      "outputs": []
    },
    {
      "cell_type": "code",
      "metadata": {
        "colab": {
          "base_uri": "https://localhost:8080/"
        },
        "id": "mQPyZcrWlgeH",
        "outputId": "3080d538-ddd6-4643-c6d0-4383f300f715"
      },
      "source": [
        "\n",
        "smote_train = SMOTE(sampling_strategy = 'auto', n_jobs = -1)\n",
        "X_train_resampled, y_train_resampled = smote_train.fit_sample(X_train, y_train)"
      ],
      "execution_count": 88,
      "outputs": [
        {
          "output_type": "stream",
          "name": "stderr",
          "text": [
            "/usr/local/lib/python3.7/dist-packages/sklearn/utils/deprecation.py:87: FutureWarning: Function safe_indexing is deprecated; safe_indexing is deprecated in version 0.22 and will be removed in version 0.24.\n",
            "  warnings.warn(msg, category=FutureWarning)\n",
            "/usr/local/lib/python3.7/dist-packages/sklearn/utils/deprecation.py:87: FutureWarning: Function safe_indexing is deprecated; safe_indexing is deprecated in version 0.22 and will be removed in version 0.24.\n",
            "  warnings.warn(msg, category=FutureWarning)\n"
          ]
        }
      ]
    },
    {
      "cell_type": "code",
      "metadata": {
        "colab": {
          "base_uri": "https://localhost:8080/",
          "height": 689
        },
        "id": "zWCND92F9p4k",
        "outputId": "43c3d76c-bd13-489f-f305-61048b78807a"
      },
      "source": [
        "X.head(20)"
      ],
      "execution_count": 201,
      "outputs": [
        {
          "output_type": "execute_result",
          "data": {
            "text/html": [
              "<div>\n",
              "<style scoped>\n",
              "    .dataframe tbody tr th:only-of-type {\n",
              "        vertical-align: middle;\n",
              "    }\n",
              "\n",
              "    .dataframe tbody tr th {\n",
              "        vertical-align: top;\n",
              "    }\n",
              "\n",
              "    .dataframe thead th {\n",
              "        text-align: right;\n",
              "    }\n",
              "</style>\n",
              "<table border=\"1\" class=\"dataframe\">\n",
              "  <thead>\n",
              "    <tr style=\"text-align: right;\">\n",
              "      <th></th>\n",
              "      <th>amount_tsh</th>\n",
              "      <th>gps_height</th>\n",
              "      <th>longitude</th>\n",
              "      <th>latitude</th>\n",
              "      <th>population</th>\n",
              "      <th>public_meeting</th>\n",
              "      <th>permit</th>\n",
              "      <th>construction_year</th>\n",
              "      <th>year_recorded</th>\n",
              "      <th>month_recorded</th>\n",
              "      <th>wpt_name_encoded</th>\n",
              "      <th>basin_encoded</th>\n",
              "      <th>region_encoded</th>\n",
              "      <th>district_code_encoded</th>\n",
              "      <th>lga_encoded</th>\n",
              "      <th>ward_encoded</th>\n",
              "      <th>scheme_management_encoded</th>\n",
              "      <th>installer_encoded</th>\n",
              "      <th>source_encoded</th>\n",
              "      <th>extraction_type_encoded</th>\n",
              "      <th>extraction_type_group_encoded</th>\n",
              "      <th>extraction_type_class_encoded</th>\n",
              "      <th>management_encoded</th>\n",
              "      <th>payment_encoded</th>\n",
              "      <th>water_quality_encoded</th>\n",
              "      <th>management_group_encoded</th>\n",
              "      <th>quality_group_encoded</th>\n",
              "      <th>quantity_encoded</th>\n",
              "      <th>source_class_encoded</th>\n",
              "      <th>waterpoint_type_group_encoded</th>\n",
              "    </tr>\n",
              "  </thead>\n",
              "  <tbody>\n",
              "    <tr>\n",
              "      <th>0</th>\n",
              "      <td>6000.0</td>\n",
              "      <td>1390</td>\n",
              "      <td>34.938093</td>\n",
              "      <td>-9.856322</td>\n",
              "      <td>109</td>\n",
              "      <td>True</td>\n",
              "      <td>False</td>\n",
              "      <td>1999</td>\n",
              "      <td>2011</td>\n",
              "      <td>3</td>\n",
              "      <td>1.497473</td>\n",
              "      <td>1.356412</td>\n",
              "      <td>1.587568</td>\n",
              "      <td>5</td>\n",
              "      <td>1.568384</td>\n",
              "      <td>1.228571</td>\n",
              "      <td>1.087339</td>\n",
              "      <td>1.279570</td>\n",
              "      <td>1.319506</td>\n",
              "      <td>1.299339</td>\n",
              "      <td>1.299339</td>\n",
              "      <td>1.299339</td>\n",
              "      <td>1.077347</td>\n",
              "      <td>1.572370</td>\n",
              "      <td>1.208690</td>\n",
              "      <td>1.150870</td>\n",
              "      <td>1.208690</td>\n",
              "      <td>1.376947</td>\n",
              "      <td>1.144476</td>\n",
              "      <td>1.236945</td>\n",
              "    </tr>\n",
              "    <tr>\n",
              "      <th>1</th>\n",
              "      <td>0.0</td>\n",
              "      <td>1399</td>\n",
              "      <td>34.698766</td>\n",
              "      <td>-2.147466</td>\n",
              "      <td>280</td>\n",
              "      <td>True</td>\n",
              "      <td>True</td>\n",
              "      <td>2010</td>\n",
              "      <td>2013</td>\n",
              "      <td>3</td>\n",
              "      <td>1.129071</td>\n",
              "      <td>1.091734</td>\n",
              "      <td>0.929878</td>\n",
              "      <td>2</td>\n",
              "      <td>1.220979</td>\n",
              "      <td>1.242857</td>\n",
              "      <td>1.223529</td>\n",
              "      <td>1.684211</td>\n",
              "      <td>1.344377</td>\n",
              "      <td>1.299339</td>\n",
              "      <td>1.299339</td>\n",
              "      <td>1.299339</td>\n",
              "      <td>1.297974</td>\n",
              "      <td>0.973015</td>\n",
              "      <td>1.208690</td>\n",
              "      <td>1.150870</td>\n",
              "      <td>1.208690</td>\n",
              "      <td>1.142253</td>\n",
              "      <td>1.208149</td>\n",
              "      <td>1.236945</td>\n",
              "    </tr>\n",
              "    <tr>\n",
              "      <th>2</th>\n",
              "      <td>25.0</td>\n",
              "      <td>686</td>\n",
              "      <td>37.460664</td>\n",
              "      <td>-3.821329</td>\n",
              "      <td>250</td>\n",
              "      <td>True</td>\n",
              "      <td>True</td>\n",
              "      <td>2009</td>\n",
              "      <td>2013</td>\n",
              "      <td>2</td>\n",
              "      <td>2.000000</td>\n",
              "      <td>1.255062</td>\n",
              "      <td>1.307206</td>\n",
              "      <td>4</td>\n",
              "      <td>1.175896</td>\n",
              "      <td>1.777778</td>\n",
              "      <td>1.087339</td>\n",
              "      <td>1.439803</td>\n",
              "      <td>0.806107</td>\n",
              "      <td>1.299339</td>\n",
              "      <td>1.299339</td>\n",
              "      <td>1.299339</td>\n",
              "      <td>1.077347</td>\n",
              "      <td>1.401046</td>\n",
              "      <td>1.208690</td>\n",
              "      <td>1.150870</td>\n",
              "      <td>1.208690</td>\n",
              "      <td>1.376947</td>\n",
              "      <td>1.208149</td>\n",
              "      <td>1.236945</td>\n",
              "    </tr>\n",
              "    <tr>\n",
              "      <th>3</th>\n",
              "      <td>0.0</td>\n",
              "      <td>263</td>\n",
              "      <td>38.486161</td>\n",
              "      <td>-11.155298</td>\n",
              "      <td>58</td>\n",
              "      <td>True</td>\n",
              "      <td>True</td>\n",
              "      <td>1986</td>\n",
              "      <td>2013</td>\n",
              "      <td>1</td>\n",
              "      <td>1.158838</td>\n",
              "      <td>0.816118</td>\n",
              "      <td>0.679005</td>\n",
              "      <td>63</td>\n",
              "      <td>0.535032</td>\n",
              "      <td>0.387097</td>\n",
              "      <td>1.087388</td>\n",
              "      <td>1.117647</td>\n",
              "      <td>1.023569</td>\n",
              "      <td>1.150325</td>\n",
              "      <td>1.118647</td>\n",
              "      <td>1.118647</td>\n",
              "      <td>1.077396</td>\n",
              "      <td>0.973093</td>\n",
              "      <td>1.208729</td>\n",
              "      <td>1.150908</td>\n",
              "      <td>1.208729</td>\n",
              "      <td>0.056205</td>\n",
              "      <td>1.144520</td>\n",
              "      <td>1.237003</td>\n",
              "    </tr>\n",
              "    <tr>\n",
              "      <th>4</th>\n",
              "      <td>0.0</td>\n",
              "      <td>0</td>\n",
              "      <td>31.130847</td>\n",
              "      <td>-1.825359</td>\n",
              "      <td>0</td>\n",
              "      <td>True</td>\n",
              "      <td>True</td>\n",
              "      <td>0</td>\n",
              "      <td>2011</td>\n",
              "      <td>7</td>\n",
              "      <td>1.064110</td>\n",
              "      <td>1.091734</td>\n",
              "      <td>1.133032</td>\n",
              "      <td>1</td>\n",
              "      <td>1.118182</td>\n",
              "      <td>1.666667</td>\n",
              "      <td>1.087339</td>\n",
              "      <td>1.149254</td>\n",
              "      <td>1.344377</td>\n",
              "      <td>1.299339</td>\n",
              "      <td>1.299339</td>\n",
              "      <td>1.299339</td>\n",
              "      <td>1.260973</td>\n",
              "      <td>0.973015</td>\n",
              "      <td>1.208690</td>\n",
              "      <td>1.178344</td>\n",
              "      <td>1.208690</td>\n",
              "      <td>1.250679</td>\n",
              "      <td>1.208149</td>\n",
              "      <td>1.236945</td>\n",
              "    </tr>\n",
              "    <tr>\n",
              "      <th>5</th>\n",
              "      <td>20.0</td>\n",
              "      <td>0</td>\n",
              "      <td>39.172796</td>\n",
              "      <td>-4.765587</td>\n",
              "      <td>1</td>\n",
              "      <td>True</td>\n",
              "      <td>True</td>\n",
              "      <td>2009</td>\n",
              "      <td>2011</td>\n",
              "      <td>3</td>\n",
              "      <td>1.158838</td>\n",
              "      <td>1.255062</td>\n",
              "      <td>1.155931</td>\n",
              "      <td>8</td>\n",
              "      <td>1.554007</td>\n",
              "      <td>1.666667</td>\n",
              "      <td>1.087339</td>\n",
              "      <td>1.183796</td>\n",
              "      <td>1.189573</td>\n",
              "      <td>1.149906</td>\n",
              "      <td>1.118323</td>\n",
              "      <td>1.118323</td>\n",
              "      <td>1.077347</td>\n",
              "      <td>1.401046</td>\n",
              "      <td>0.960453</td>\n",
              "      <td>1.150870</td>\n",
              "      <td>0.978629</td>\n",
              "      <td>1.376947</td>\n",
              "      <td>1.151625</td>\n",
              "      <td>1.236945</td>\n",
              "    </tr>\n",
              "    <tr>\n",
              "      <th>6</th>\n",
              "      <td>0.0</td>\n",
              "      <td>0</td>\n",
              "      <td>33.362410</td>\n",
              "      <td>-3.766365</td>\n",
              "      <td>0</td>\n",
              "      <td>True</td>\n",
              "      <td>True</td>\n",
              "      <td>0</td>\n",
              "      <td>2012</td>\n",
              "      <td>10</td>\n",
              "      <td>1.158838</td>\n",
              "      <td>1.223150</td>\n",
              "      <td>1.247340</td>\n",
              "      <td>3</td>\n",
              "      <td>1.149915</td>\n",
              "      <td>1.263889</td>\n",
              "      <td>1.087388</td>\n",
              "      <td>1.471204</td>\n",
              "      <td>1.023569</td>\n",
              "      <td>1.197056</td>\n",
              "      <td>1.197056</td>\n",
              "      <td>1.321483</td>\n",
              "      <td>1.077396</td>\n",
              "      <td>0.973093</td>\n",
              "      <td>1.208729</td>\n",
              "      <td>1.150908</td>\n",
              "      <td>1.208729</td>\n",
              "      <td>1.377008</td>\n",
              "      <td>1.144520</td>\n",
              "      <td>1.294619</td>\n",
              "    </tr>\n",
              "    <tr>\n",
              "      <th>7</th>\n",
              "      <td>0.0</td>\n",
              "      <td>0</td>\n",
              "      <td>32.620617</td>\n",
              "      <td>-4.226198</td>\n",
              "      <td>0</td>\n",
              "      <td>True</td>\n",
              "      <td>True</td>\n",
              "      <td>0</td>\n",
              "      <td>2012</td>\n",
              "      <td>10</td>\n",
              "      <td>2.000000</td>\n",
              "      <td>1.081636</td>\n",
              "      <td>1.247340</td>\n",
              "      <td>3</td>\n",
              "      <td>1.111377</td>\n",
              "      <td>0.814815</td>\n",
              "      <td>1.087388</td>\n",
              "      <td>1.183891</td>\n",
              "      <td>1.046484</td>\n",
              "      <td>1.408439</td>\n",
              "      <td>1.408439</td>\n",
              "      <td>1.321483</td>\n",
              "      <td>1.298281</td>\n",
              "      <td>0.918097</td>\n",
              "      <td>1.108344</td>\n",
              "      <td>1.150908</td>\n",
              "      <td>1.108344</td>\n",
              "      <td>1.377008</td>\n",
              "      <td>1.144520</td>\n",
              "      <td>1.294619</td>\n",
              "    </tr>\n",
              "    <tr>\n",
              "      <th>8</th>\n",
              "      <td>0.0</td>\n",
              "      <td>0</td>\n",
              "      <td>32.711100</td>\n",
              "      <td>-5.146712</td>\n",
              "      <td>0</td>\n",
              "      <td>True</td>\n",
              "      <td>True</td>\n",
              "      <td>0</td>\n",
              "      <td>2012</td>\n",
              "      <td>11</td>\n",
              "      <td>1.158838</td>\n",
              "      <td>1.081636</td>\n",
              "      <td>0.889173</td>\n",
              "      <td>6</td>\n",
              "      <td>0.701299</td>\n",
              "      <td>0.580645</td>\n",
              "      <td>1.087388</td>\n",
              "      <td>1.127660</td>\n",
              "      <td>1.023569</td>\n",
              "      <td>1.240100</td>\n",
              "      <td>1.240100</td>\n",
              "      <td>1.321483</td>\n",
              "      <td>1.077396</td>\n",
              "      <td>0.973093</td>\n",
              "      <td>0.960865</td>\n",
              "      <td>1.150908</td>\n",
              "      <td>0.979014</td>\n",
              "      <td>1.251173</td>\n",
              "      <td>1.144520</td>\n",
              "      <td>1.294619</td>\n",
              "    </tr>\n",
              "    <tr>\n",
              "      <th>9</th>\n",
              "      <td>0.0</td>\n",
              "      <td>0</td>\n",
              "      <td>30.626991</td>\n",
              "      <td>-1.257051</td>\n",
              "      <td>0</td>\n",
              "      <td>True</td>\n",
              "      <td>True</td>\n",
              "      <td>0</td>\n",
              "      <td>2011</td>\n",
              "      <td>8</td>\n",
              "      <td>1.158838</td>\n",
              "      <td>1.091734</td>\n",
              "      <td>1.133032</td>\n",
              "      <td>1</td>\n",
              "      <td>1.118182</td>\n",
              "      <td>1.340426</td>\n",
              "      <td>1.087339</td>\n",
              "      <td>1.149254</td>\n",
              "      <td>1.046365</td>\n",
              "      <td>1.408193</td>\n",
              "      <td>1.408193</td>\n",
              "      <td>1.321361</td>\n",
              "      <td>1.077347</td>\n",
              "      <td>0.973015</td>\n",
              "      <td>1.208690</td>\n",
              "      <td>1.150870</td>\n",
              "      <td>1.208690</td>\n",
              "      <td>1.376947</td>\n",
              "      <td>1.144476</td>\n",
              "      <td>1.294504</td>\n",
              "    </tr>\n",
              "    <tr>\n",
              "      <th>10</th>\n",
              "      <td>0.0</td>\n",
              "      <td>62</td>\n",
              "      <td>39.209518</td>\n",
              "      <td>-7.034139</td>\n",
              "      <td>345</td>\n",
              "      <td>True</td>\n",
              "      <td>False</td>\n",
              "      <td>2011</td>\n",
              "      <td>2011</td>\n",
              "      <td>2</td>\n",
              "      <td>1.158838</td>\n",
              "      <td>1.092382</td>\n",
              "      <td>1.194381</td>\n",
              "      <td>43</td>\n",
              "      <td>0.976744</td>\n",
              "      <td>0.470588</td>\n",
              "      <td>1.392655</td>\n",
              "      <td>1.500000</td>\n",
              "      <td>1.023388</td>\n",
              "      <td>1.149906</td>\n",
              "      <td>1.118323</td>\n",
              "      <td>1.118323</td>\n",
              "      <td>1.519797</td>\n",
              "      <td>0.973015</td>\n",
              "      <td>0.960453</td>\n",
              "      <td>1.260654</td>\n",
              "      <td>0.978629</td>\n",
              "      <td>1.376947</td>\n",
              "      <td>1.144476</td>\n",
              "      <td>0.308983</td>\n",
              "    </tr>\n",
              "    <tr>\n",
              "      <th>11</th>\n",
              "      <td>200.0</td>\n",
              "      <td>1062</td>\n",
              "      <td>35.770258</td>\n",
              "      <td>-10.574175</td>\n",
              "      <td>250</td>\n",
              "      <td>True</td>\n",
              "      <td>False</td>\n",
              "      <td>1987</td>\n",
              "      <td>2013</td>\n",
              "      <td>2</td>\n",
              "      <td>1.158838</td>\n",
              "      <td>1.356412</td>\n",
              "      <td>1.183024</td>\n",
              "      <td>5</td>\n",
              "      <td>1.145743</td>\n",
              "      <td>1.450000</td>\n",
              "      <td>1.283766</td>\n",
              "      <td>1.110582</td>\n",
              "      <td>1.046365</td>\n",
              "      <td>1.196511</td>\n",
              "      <td>1.196511</td>\n",
              "      <td>1.321361</td>\n",
              "      <td>1.297974</td>\n",
              "      <td>1.311781</td>\n",
              "      <td>1.208690</td>\n",
              "      <td>1.150870</td>\n",
              "      <td>1.208690</td>\n",
              "      <td>1.142253</td>\n",
              "      <td>1.144476</td>\n",
              "      <td>1.294504</td>\n",
              "    </tr>\n",
              "    <tr>\n",
              "      <th>12</th>\n",
              "      <td>0.0</td>\n",
              "      <td>0</td>\n",
              "      <td>33.798106</td>\n",
              "      <td>-3.290194</td>\n",
              "      <td>0</td>\n",
              "      <td>True</td>\n",
              "      <td>False</td>\n",
              "      <td>0</td>\n",
              "      <td>2012</td>\n",
              "      <td>10</td>\n",
              "      <td>1.000000</td>\n",
              "      <td>1.222893</td>\n",
              "      <td>1.246938</td>\n",
              "      <td>2</td>\n",
              "      <td>1.304455</td>\n",
              "      <td>1.594203</td>\n",
              "      <td>1.283766</td>\n",
              "      <td>1.439803</td>\n",
              "      <td>1.046365</td>\n",
              "      <td>1.408193</td>\n",
              "      <td>1.408193</td>\n",
              "      <td>1.321361</td>\n",
              "      <td>1.297974</td>\n",
              "      <td>1.270655</td>\n",
              "      <td>1.208690</td>\n",
              "      <td>1.150870</td>\n",
              "      <td>1.208690</td>\n",
              "      <td>1.376947</td>\n",
              "      <td>1.144476</td>\n",
              "      <td>1.294504</td>\n",
              "    </tr>\n",
              "    <tr>\n",
              "      <th>13</th>\n",
              "      <td>0.0</td>\n",
              "      <td>1368</td>\n",
              "      <td>37.092574</td>\n",
              "      <td>-3.181783</td>\n",
              "      <td>1</td>\n",
              "      <td>True</td>\n",
              "      <td>True</td>\n",
              "      <td>2009</td>\n",
              "      <td>2013</td>\n",
              "      <td>3</td>\n",
              "      <td>1.158838</td>\n",
              "      <td>1.255062</td>\n",
              "      <td>1.279123</td>\n",
              "      <td>7</td>\n",
              "      <td>1.903002</td>\n",
              "      <td>1.578947</td>\n",
              "      <td>1.534401</td>\n",
              "      <td>1.865922</td>\n",
              "      <td>1.319506</td>\n",
              "      <td>1.299339</td>\n",
              "      <td>1.299339</td>\n",
              "      <td>1.299339</td>\n",
              "      <td>1.569918</td>\n",
              "      <td>1.432582</td>\n",
              "      <td>1.208690</td>\n",
              "      <td>1.150870</td>\n",
              "      <td>1.208690</td>\n",
              "      <td>1.376947</td>\n",
              "      <td>1.144476</td>\n",
              "      <td>1.236945</td>\n",
              "    </tr>\n",
              "    <tr>\n",
              "      <th>14</th>\n",
              "      <td>0.0</td>\n",
              "      <td>0</td>\n",
              "      <td>34.364073</td>\n",
              "      <td>-3.629333</td>\n",
              "      <td>0</td>\n",
              "      <td>True</td>\n",
              "      <td>True</td>\n",
              "      <td>0</td>\n",
              "      <td>2012</td>\n",
              "      <td>10</td>\n",
              "      <td>1.666667</td>\n",
              "      <td>1.222893</td>\n",
              "      <td>1.246938</td>\n",
              "      <td>6</td>\n",
              "      <td>1.438972</td>\n",
              "      <td>1.041322</td>\n",
              "      <td>1.283766</td>\n",
              "      <td>1.401515</td>\n",
              "      <td>1.046365</td>\n",
              "      <td>1.408193</td>\n",
              "      <td>1.408193</td>\n",
              "      <td>1.321361</td>\n",
              "      <td>1.297974</td>\n",
              "      <td>0.973015</td>\n",
              "      <td>1.208690</td>\n",
              "      <td>1.150870</td>\n",
              "      <td>1.208690</td>\n",
              "      <td>1.376947</td>\n",
              "      <td>1.144476</td>\n",
              "      <td>1.294504</td>\n",
              "    </tr>\n",
              "    <tr>\n",
              "      <th>15</th>\n",
              "      <td>0.0</td>\n",
              "      <td>1645</td>\n",
              "      <td>31.444121</td>\n",
              "      <td>-8.274962</td>\n",
              "      <td>200</td>\n",
              "      <td>True</td>\n",
              "      <td>False</td>\n",
              "      <td>1991</td>\n",
              "      <td>2011</td>\n",
              "      <td>8</td>\n",
              "      <td>1.158838</td>\n",
              "      <td>1.081325</td>\n",
              "      <td>0.856115</td>\n",
              "      <td>2</td>\n",
              "      <td>0.926923</td>\n",
              "      <td>1.677419</td>\n",
              "      <td>1.087339</td>\n",
              "      <td>1.183796</td>\n",
              "      <td>1.023388</td>\n",
              "      <td>1.196511</td>\n",
              "      <td>1.196511</td>\n",
              "      <td>1.321361</td>\n",
              "      <td>1.077347</td>\n",
              "      <td>0.973015</td>\n",
              "      <td>1.208690</td>\n",
              "      <td>1.150870</td>\n",
              "      <td>1.208690</td>\n",
              "      <td>1.376947</td>\n",
              "      <td>1.144476</td>\n",
              "      <td>1.294504</td>\n",
              "    </tr>\n",
              "    <tr>\n",
              "      <th>16</th>\n",
              "      <td>500.0</td>\n",
              "      <td>1703</td>\n",
              "      <td>34.642439</td>\n",
              "      <td>-9.106185</td>\n",
              "      <td>35</td>\n",
              "      <td>True</td>\n",
              "      <td>True</td>\n",
              "      <td>1978</td>\n",
              "      <td>2011</td>\n",
              "      <td>7</td>\n",
              "      <td>1.158838</td>\n",
              "      <td>1.325768</td>\n",
              "      <td>1.587946</td>\n",
              "      <td>4</td>\n",
              "      <td>1.641886</td>\n",
              "      <td>1.813043</td>\n",
              "      <td>1.467384</td>\n",
              "      <td>1.183891</td>\n",
              "      <td>1.264281</td>\n",
              "      <td>1.299414</td>\n",
              "      <td>1.299414</td>\n",
              "      <td>1.299414</td>\n",
              "      <td>1.462904</td>\n",
              "      <td>1.432823</td>\n",
              "      <td>1.208729</td>\n",
              "      <td>1.150908</td>\n",
              "      <td>1.208729</td>\n",
              "      <td>0.056205</td>\n",
              "      <td>1.208299</td>\n",
              "      <td>1.237003</td>\n",
              "    </tr>\n",
              "    <tr>\n",
              "      <th>17</th>\n",
              "      <td>0.0</td>\n",
              "      <td>1656</td>\n",
              "      <td>34.569266</td>\n",
              "      <td>-9.085515</td>\n",
              "      <td>50</td>\n",
              "      <td>True</td>\n",
              "      <td>True</td>\n",
              "      <td>1978</td>\n",
              "      <td>2011</td>\n",
              "      <td>9</td>\n",
              "      <td>1.158838</td>\n",
              "      <td>1.325768</td>\n",
              "      <td>1.587946</td>\n",
              "      <td>4</td>\n",
              "      <td>1.641886</td>\n",
              "      <td>1.392473</td>\n",
              "      <td>1.467384</td>\n",
              "      <td>1.183891</td>\n",
              "      <td>1.264281</td>\n",
              "      <td>1.299414</td>\n",
              "      <td>1.299414</td>\n",
              "      <td>1.299414</td>\n",
              "      <td>1.462904</td>\n",
              "      <td>1.312292</td>\n",
              "      <td>1.208729</td>\n",
              "      <td>1.150908</td>\n",
              "      <td>1.208729</td>\n",
              "      <td>0.056205</td>\n",
              "      <td>1.208299</td>\n",
              "      <td>1.237003</td>\n",
              "    </tr>\n",
              "    <tr>\n",
              "      <th>18</th>\n",
              "      <td>0.0</td>\n",
              "      <td>1162</td>\n",
              "      <td>32.920154</td>\n",
              "      <td>-1.947868</td>\n",
              "      <td>1000</td>\n",
              "      <td>True</td>\n",
              "      <td>True</td>\n",
              "      <td>1999</td>\n",
              "      <td>2011</td>\n",
              "      <td>7</td>\n",
              "      <td>1.158838</td>\n",
              "      <td>1.091832</td>\n",
              "      <td>1.027411</td>\n",
              "      <td>1</td>\n",
              "      <td>0.732353</td>\n",
              "      <td>0.857143</td>\n",
              "      <td>1.087364</td>\n",
              "      <td>1.183843</td>\n",
              "      <td>1.319565</td>\n",
              "      <td>0.351999</td>\n",
              "      <td>0.351999</td>\n",
              "      <td>0.351999</td>\n",
              "      <td>1.077371</td>\n",
              "      <td>0.973054</td>\n",
              "      <td>1.107098</td>\n",
              "      <td>1.150889</td>\n",
              "      <td>1.107098</td>\n",
              "      <td>1.142319</td>\n",
              "      <td>1.144498</td>\n",
              "      <td>0.309139</td>\n",
              "    </tr>\n",
              "    <tr>\n",
              "      <th>19</th>\n",
              "      <td>500.0</td>\n",
              "      <td>1763</td>\n",
              "      <td>34.508967</td>\n",
              "      <td>-9.894412</td>\n",
              "      <td>1</td>\n",
              "      <td>True</td>\n",
              "      <td>True</td>\n",
              "      <td>1992</td>\n",
              "      <td>2011</td>\n",
              "      <td>2</td>\n",
              "      <td>1.497473</td>\n",
              "      <td>1.356412</td>\n",
              "      <td>1.587568</td>\n",
              "      <td>5</td>\n",
              "      <td>1.568384</td>\n",
              "      <td>1.892857</td>\n",
              "      <td>1.087339</td>\n",
              "      <td>1.816901</td>\n",
              "      <td>1.319506</td>\n",
              "      <td>1.299339</td>\n",
              "      <td>1.299339</td>\n",
              "      <td>1.299339</td>\n",
              "      <td>1.077347</td>\n",
              "      <td>1.572370</td>\n",
              "      <td>1.208690</td>\n",
              "      <td>1.150870</td>\n",
              "      <td>1.208690</td>\n",
              "      <td>1.376947</td>\n",
              "      <td>1.144476</td>\n",
              "      <td>1.236945</td>\n",
              "    </tr>\n",
              "  </tbody>\n",
              "</table>\n",
              "</div>"
            ],
            "text/plain": [
              "    amount_tsh  gps_height  ...  source_class_encoded  waterpoint_type_group_encoded\n",
              "0       6000.0        1390  ...              1.144476                       1.236945\n",
              "1          0.0        1399  ...              1.208149                       1.236945\n",
              "2         25.0         686  ...              1.208149                       1.236945\n",
              "3          0.0         263  ...              1.144520                       1.237003\n",
              "4          0.0           0  ...              1.208149                       1.236945\n",
              "5         20.0           0  ...              1.151625                       1.236945\n",
              "6          0.0           0  ...              1.144520                       1.294619\n",
              "7          0.0           0  ...              1.144520                       1.294619\n",
              "8          0.0           0  ...              1.144520                       1.294619\n",
              "9          0.0           0  ...              1.144476                       1.294504\n",
              "10         0.0          62  ...              1.144476                       0.308983\n",
              "11       200.0        1062  ...              1.144476                       1.294504\n",
              "12         0.0           0  ...              1.144476                       1.294504\n",
              "13         0.0        1368  ...              1.144476                       1.236945\n",
              "14         0.0           0  ...              1.144476                       1.294504\n",
              "15         0.0        1645  ...              1.144476                       1.294504\n",
              "16       500.0        1703  ...              1.208299                       1.237003\n",
              "17         0.0        1656  ...              1.208299                       1.237003\n",
              "18         0.0        1162  ...              1.144498                       0.309139\n",
              "19       500.0        1763  ...              1.144476                       1.236945\n",
              "\n",
              "[20 rows x 30 columns]"
            ]
          },
          "metadata": {},
          "execution_count": 201
        }
      ]
    },
    {
      "cell_type": "code",
      "metadata": {
        "colab": {
          "base_uri": "https://localhost:8080/"
        },
        "id": "JbX_1YsQk3aI",
        "outputId": "13a6d2c4-3ec3-47d7-9b33-759b50aa5f5b"
      },
      "source": [
        "from sklearn.ensemble import RandomForestClassifier, ExtraTreesClassifier\n",
        "clf_xg = RandomForestClassifier(n_estimators=100, random_state=42, n_jobs=-1,\n",
        "                            criterion= 'entropy',max_features= 'sqrt',\n",
        "                             min_samples_split= 10,class_weight='balanced')\n",
        "scores = cross_val_score(clf_xg, X_train, y_train, cv=5, scoring='accuracy')\n",
        "print(scores.mean(), '+/-', scores.std())"
      ],
      "execution_count": 199,
      "outputs": [
        {
          "output_type": "stream",
          "name": "stdout",
          "text": [
            "0.9999326599326599 +/- 0.00013468013468012074\n"
          ]
        }
      ]
    },
    {
      "cell_type": "code",
      "metadata": {
        "id": "8_j6Rzhw8oS7"
      },
      "source": [
        "clf_xg = XGBClassifier(objective = 'multi:softmax', booster = 'gbtree', nrounds = 'min.error.idx',\n",
        "                      num_class = 3, maximize = False, eval_metric = 'auc', eta = .1,\n",
        "                      max_depth = 6, colsample_bytree = .4, n_jobs = -1)\n",
        "scores = cross_val_score(clf_xg, X_train, y_train, cv=5, scoring='accuracy')\n",
        "print(scores.mean(), '+/-', scores.std())"
      ],
      "execution_count": null,
      "outputs": []
    },
    {
      "cell_type": "code",
      "metadata": {
        "colab": {
          "base_uri": "https://localhost:8080/"
        },
        "id": "cSpYLaDdlW9P",
        "outputId": "d534a00b-2705-4205-c235-553655bdff94"
      },
      "source": [
        "clf_xg.fit(X_train, y_train)"
      ],
      "execution_count": 163,
      "outputs": [
        {
          "output_type": "execute_result",
          "data": {
            "text/plain": [
              "XGBClassifier(base_score=0.5, booster='gbtree', colsample_bylevel=1,\n",
              "              colsample_bynode=1, colsample_bytree=0.4, eta=0.1,\n",
              "              eval_metric='merror', gamma=0, learning_rate=0.1,\n",
              "              max_delta_step=0, max_depth=6, maximize=False, min_child_weight=1,\n",
              "              missing=None, n_estimators=100, n_jobs=-1,\n",
              "              nrounds='min.error.idx', nthread=None, num_class=3,\n",
              "              objective='multi:softprob', random_state=0, reg_alpha=0,\n",
              "              reg_lambda=1, scale_pos_weight=1, seed=None, silent=None,\n",
              "              subsample=1, verbosity=1)"
            ]
          },
          "metadata": {},
          "execution_count": 163
        }
      ]
    },
    {
      "cell_type": "code",
      "metadata": {
        "id": "Wbm_mEqUmH7u"
      },
      "source": [
        "preds_train_resampled = clf_xg.predict(X_train)\n",
        "preds_train = clf_xg.predict(X)\n",
        "preds_test = clf_xg.predict(X_test)"
      ],
      "execution_count": 164,
      "outputs": []
    },
    {
      "cell_type": "code",
      "metadata": {
        "colab": {
          "base_uri": "https://localhost:8080/",
          "height": 296
        },
        "id": "V3Hh1WommT8-",
        "outputId": "926c2f15-d739-401e-edbe-eb1603a7d4c5"
      },
      "source": [
        "print(\"Accuracy Score: \", accuracy_score(y_train, preds_train_resampled))\n",
        "cm = confusion_matrix(y_train, preds_train_resampled)\n",
        "plot_confusion_matrix(cm)\n",
        "plt.show()"
      ],
      "execution_count": 165,
      "outputs": [
        {
          "output_type": "stream",
          "name": "stdout",
          "text": [
            "Accuracy Score:  1.0\n"
          ]
        },
        {
          "output_type": "display_data",
          "data": {
            "image/png": "[encoded data removed]",
            "text/plain": [
              "<Figure size 432x288 with 1 Axes>"
            ]
          },
          "metadata": {
            "needs_background": "light"
          }
        }
      ]
    },
    {
      "cell_type": "code",
      "metadata": {
        "colab": {
          "base_uri": "https://localhost:8080/",
          "height": 296
        },
        "id": "vOD0clIXmdDJ",
        "outputId": "a2c94cf2-0e2a-42e0-ceb4-cc112c79d025"
      },
      "source": [
        "print(\"Accuracy Score: \", accuracy_score(y, preds_train))\n",
        "cm = confusion_matrix(y, preds_train)\n",
        "plot_confusion_matrix(cm)\n",
        "plt.show()"
      ],
      "execution_count": 166,
      "outputs": [
        {
          "output_type": "stream",
          "name": "stdout",
          "text": [
            "Accuracy Score:  1.0\n"
          ]
        },
        {
          "output_type": "display_data",
          "data": {
            "image/png": "[encoded data removed]",
            "text/plain": [
              "<Figure size 432x288 with 1 Axes>"
            ]
          },
          "metadata": {
            "needs_background": "light"
          }
        }
      ]
    },
    {
      "cell_type": "code",
      "metadata": {
        "colab": {
          "base_uri": "https://localhost:8080/",
          "height": 296
        },
        "id": "PM7EwfVUm0wq",
        "outputId": "d9818600-0ce4-4954-92d1-00b0f0ab440c"
      },
      "source": [
        "print(\"Accuracy Score: \", accuracy_score(y_test, preds_test))\n",
        "cm = confusion_matrix(y_test, preds_test)\n",
        "plot_confusion_matrix(cm)\n",
        "plt.show()"
      ],
      "execution_count": 167,
      "outputs": [
        {
          "output_type": "stream",
          "name": "stdout",
          "text": [
            "Accuracy Score:  1.0\n"
          ]
        },
        {
          "output_type": "display_data",
          "data": {
            "image/png": "[encoded data removed]",
            "text/plain": [
              "<Figure size 432x288 with 1 Axes>"
            ]
          },
          "metadata": {
            "needs_background": "light"
          }
        }
      ]
    },
    {
      "cell_type": "code",
      "metadata": {
        "id": "OkEp1Lbnpado"
      },
      "source": [
        "preds_main_test = clf_xg.predict(test)\n",
        "submission_preds = pd.Series(preds_main_test)"
      ],
      "execution_count": 168,
      "outputs": []
    },
    {
      "cell_type": "code",
      "metadata": {
        "colab": {
          "base_uri": "https://localhost:8080/"
        },
        "id": "ZHZx2Lyjufx1",
        "outputId": "7067eb5c-67b1-4e71-cce5-d56743f3feb6"
      },
      "source": [
        "submission_preds.value_counts()"
      ],
      "execution_count": 169,
      "outputs": [
        {
          "output_type": "execute_result",
          "data": {
            "text/plain": [
              "1    14839\n",
              "0        7\n",
              "2        4\n",
              "dtype: int64"
            ]
          },
          "metadata": {},
          "execution_count": 169
        }
      ]
    },
    {
      "cell_type": "code",
      "metadata": {
        "colab": {
          "base_uri": "https://localhost:8080/"
        },
        "id": "3LVZroXcwoX2",
        "outputId": "031f7695-9221-491e-852e-132f129ab66f"
      },
      "source": [
        "submission_preds_mapped = submission_preds.map({2: 'functional', 1: 'functional needs repair', 0: 'non functional'})\n",
        "submission_preds_mapped.value_counts()"
      ],
      "execution_count": 170,
      "outputs": [
        {
          "output_type": "execute_result",
          "data": {
            "text/plain": [
              "functional needs repair    14839\n",
              "non functional                 7\n",
              "functional                     4\n",
              "dtype: int64"
            ]
          },
          "metadata": {},
          "execution_count": 170
        }
      ]
    },
    {
      "cell_type": "code",
      "metadata": {
        "colab": {
          "base_uri": "https://localhost:8080/",
          "height": 204
        },
        "id": "il8brQNVyXWK",
        "outputId": "dfc85010-0297-4ed8-e45a-460004af51f4"
      },
      "source": [
        "submit_df = pd.concat([test_df['id'], submission_preds_mapped], axis = 1)\n",
        "submit_df.rename(columns = {0: 'status_group'}, inplace = True)\n",
        "submit_df.head()"
      ],
      "execution_count": 141,
      "outputs": [
        {
          "output_type": "execute_result",
          "data": {
            "text/html": [
              "<div>\n",
              "<style scoped>\n",
              "    .dataframe tbody tr th:only-of-type {\n",
              "        vertical-align: middle;\n",
              "    }\n",
              "\n",
              "    .dataframe tbody tr th {\n",
              "        vertical-align: top;\n",
              "    }\n",
              "\n",
              "    .dataframe thead th {\n",
              "        text-align: right;\n",
              "    }\n",
              "</style>\n",
              "<table border=\"1\" class=\"dataframe\">\n",
              "  <thead>\n",
              "    <tr style=\"text-align: right;\">\n",
              "      <th></th>\n",
              "      <th>id</th>\n",
              "      <th>status_group</th>\n",
              "    </tr>\n",
              "  </thead>\n",
              "  <tbody>\n",
              "    <tr>\n",
              "      <th>0</th>\n",
              "      <td>50785</td>\n",
              "      <td>functional needs repair</td>\n",
              "    </tr>\n",
              "    <tr>\n",
              "      <th>1</th>\n",
              "      <td>51630</td>\n",
              "      <td>functional needs repair</td>\n",
              "    </tr>\n",
              "    <tr>\n",
              "      <th>2</th>\n",
              "      <td>17168</td>\n",
              "      <td>functional needs repair</td>\n",
              "    </tr>\n",
              "    <tr>\n",
              "      <th>3</th>\n",
              "      <td>45559</td>\n",
              "      <td>functional needs repair</td>\n",
              "    </tr>\n",
              "    <tr>\n",
              "      <th>4</th>\n",
              "      <td>49871</td>\n",
              "      <td>functional needs repair</td>\n",
              "    </tr>\n",
              "  </tbody>\n",
              "</table>\n",
              "</div>"
            ],
            "text/plain": [
              "      id             status_group\n",
              "0  50785  functional needs repair\n",
              "1  51630  functional needs repair\n",
              "2  17168  functional needs repair\n",
              "3  45559  functional needs repair\n",
              "4  49871  functional needs repair"
            ]
          },
          "metadata": {},
          "execution_count": 141
        }
      ]
    },
    {
      "cell_type": "code",
      "metadata": {
        "id": "NlwrMrwU04ue"
      },
      "source": [
        "submit_df.to_csv('submission.csv', index = False)"
      ],
      "execution_count": 142,
      "outputs": []
    },
    {
      "cell_type": "code",
      "metadata": {
        "id": "EMX2_Plb08F4"
      },
      "source": [
        ""
      ],
      "execution_count": null,
      "outputs": []
    }
  ]
}